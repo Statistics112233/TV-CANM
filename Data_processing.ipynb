{
  "nbformat": 4,
  "nbformat_minor": 0,
  "metadata": {
    "colab": {
      "provenance": []
    },
    "kernelspec": {
      "name": "python3",
      "display_name": "Python 3"
    },
    "language_info": {
      "name": "python"
    }
  },
  "cells": [
    {
      "cell_type": "code",
      "execution_count": null,
      "metadata": {
        "id": "SQAv70iTdsBT"
      },
      "outputs": [],
      "source": [
        "# Load and preprocess the dataset (e.g., Heart Rate, Weight, Height_Data.csv)\n",
        "data = pd.read_csv(\"Data_File.csv\")  # Replace with your file name\n",
        "data['Age'] = (data['Age'] - data['Age'].mean()) / data['Age'].std()\n",
        "data['Target'] = (data['Target'] - data['Target'].mean()) / data['Target'].std()  # Generalized column name"
      ]
    }
  ]
}
