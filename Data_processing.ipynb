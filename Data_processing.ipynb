# Load and preprocess the dataset (e.g., Heart Rate, Weight, Height_Data.csv)
data = pd.read_csv("Your_Data.csv")  # Replace with your file name
data['Age'] = (data['Age'] - data['Age'].mean()) / data['Age'].std()
data['Target'] = (data['Target'] - data['Target'].mean()) / data['Target'].std()  # Generalized column name
