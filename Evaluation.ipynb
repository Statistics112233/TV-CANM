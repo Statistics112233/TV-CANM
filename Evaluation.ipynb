{
  "nbformat": 4,
  "nbformat_minor": 0,
  "metadata": {
    "colab": {
      "provenance": []
    },
    "kernelspec": {
      "name": "python3",
      "display_name": "Python 3"
    },
    "language_info": {
      "name": "python"
    }
  },
  "cells": [
    {
      "cell_type": "code",
      "execution_count": null,
      "metadata": {
        "id": "SQAv70iTdsBT"
      },
      "outputs": [],
      "source": [
        "# Set up datasets for both directions\n",
        "traindata_age_to_target = np.array([data['Age'].values, data['Target'].values]).transpose()\n",
        "traindata_target_to_age = np.array([data['Target'].values, data['Age'].values]).transpose()\n",
        "\n",
        "# Run CANM model\n",
        "_, score_CANM_age_to_target = fit_model(CANM, traindata_age_to_target, verbose=True)\n",
        "_, score_CANM_target_to_age = fit_model(CANM, traindata_target_to_age, verbose=True)\n",
        "\n",
        "# Run TransformerVAE model\n",
        "_, score_TransformerVAE_age_to_target = fit_model(TransformerVAE, traindata_age_to_target, verbose=True)\n",
        "_, score_TransformerVAE_target_to_age = fit_model(TransformerVAE, traindata_target_to_age, verbose=True)\n",
        "\n",
        "# Calculate average losses over the last 10 epochs for comparison\n",
        "avg_score_CANM_age_to_target = np.mean(score_CANM_age_to_target[-10:])\n",
        "avg_score_CANM_target_to_age = np.mean(score_CANM_target_to_age[-10:])\n",
        "avg_score_TransformerVAE_age_to_target = np.mean(score_TransformerVAE_age_to_target[-10:])\n",
        "avg_score_TransformerVAE_target_to_age = np.mean(score_TransformerVAE_target_to_age[-10:])\n",
        "\n",
        "# Determine the inferred directions and print values\n",
        "direction_CANM = \"Age -> Target\" if avg_score_CANM_age_to_target > avg_score_CANM_target_to_age else \"Target -> Age\"\n",
        "direction_TransformerVAE = \"Age -> Target\" if avg_score_TransformerVAE_age_to_target > avg_score_TransformerVAE_target_to_age else \"Target -> Age\"\n",
        "\n",
        "print(\"\\nCANM Inferred Direction:\", direction_CANM)\n",
        "print(\"  Avg Score Age -> Target:\", avg_score_CANM_age_to_target)\n",
        "print(\"  Avg Score Target -> Age:\", avg_score_CANM_target_to_age)\n",
        "\n",
        "print(\"\\nTransformerVAE Inferred Direction:\", direction_TransformerVAE)\n",
        "print(\"  Avg Score Age -> Target:\", avg_score_TransformerVAE_age_to_target)\n",
        "print(\"  Avg Score Target -> Age:\", avg_score_TransformerVAE_target_to_age)\n",
        "\n",
        "# Plotting the convergence of loss values over epochs for each model and direction\n",
        "plt.figure(figsize=(14, 8))\n",
        "plt.plot(score_TransformerVAE_age_to_target, label='TV-CANM Age -> Target')\n",
        "plt.plot(score_TransformerVAE_target_to_age, label='TV-CANM Target -> Age', linestyle='--')\n",
        "plt.xlabel('Epoch')\n",
        "plt.ylabel('Negative Average Loss')\n",
        "plt.title('Causal Direction Convergence for TV-CANM (Age to Target 450 - Epochs)')\n",
        "plt.legend()\n",
        "plt.show()\n",
        "\n",
        "# Bar plot comparison of final average scores for each direction\n",
        "labels = ['CANM Age -> Target', 'CANM Target -> Age', 'TV-CANM Age -> Target', 'TV-CANM Target -> Age']\n",
        "scores = [avg_score_CANM_age_to_target, avg_score_CANM_target_to_age, avg_score_TransformerVAE_age_to_target, avg_score_TransformerVAE_target_to_age]\n",
        "colors = ['blue', 'lightblue', 'green', 'lightgreen']\n",
        "\n",
        "plt.figure(figsize=(10, 6))\n",
        "plt.bar(labels, scores, color=colors)\n",
        "plt.xlabel('Direction')\n",
        "plt.ylabel('Average Score (Negative Loss)')\n",
        "plt.title('Comparison of Causal Direction Scores for CANM and TV-CANM (Age to Target 450 - Epochs)')\n",
        "plt.show()"
      ]
    }
  ]
}