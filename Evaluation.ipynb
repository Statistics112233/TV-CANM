{
  "nbformat": 4,
  "nbformat_minor": 0,
  "metadata": {
    "colab": {
      "provenance": []
    },
    "kernelspec": {
      "name": "python3",
      "display_name": "Python 3"
    },
    "language_info": {
      "name": "python"
    }
  },
  "cells": [
    {
      "cell_type": "code",
      "execution_count": null,
      "metadata": {
        "id": "XrtYGOfSSiNR"
      },
      "outputs": [],
      "source": [
        "# Set up datasets for both directions\n",
        "traindata_age_to_height = np.array([data['Age'].values, data['Height'].values]).transpose()\n",
        "traindata_height_to_age = np.array([data['Height'].values, data['Age'].values]).transpose()\n",
        "\n",
        "# Run CANM model\n",
        "_, score_CANM_age_to_height = fit_model(CANM, traindata_age_to_height, verbose=True)\n",
        "_, score_CANM_height_to_age = fit_model(CANM, traindata_height_to_age, verbose=True)\n",
        "\n",
        "# Run TransformerVAE model\n",
        "_, score_TransformerVAE_age_to_height = fit_model(TransformerVAE, traindata_age_to_height, verbose=True)\n",
        "_, score_TransformerVAE_height_to_age = fit_model(TransformerVAE, traindata_height_to_age, verbose=True)\n",
        "\n",
        "# Calculate average losses over the last 10 epochs for comparison\n",
        "avg_score_CANM_age_to_height = np.mean(score_CANM_age_to_height[-10:])\n",
        "avg_score_CANM_height_to_age = np.mean(score_CANM_height_to_age[-10:])\n",
        "avg_score_TransformerVAE_age_to_height = np.mean(score_TransformerVAE_age_to_height[-10:])\n",
        "avg_score_TransformerVAE_height_to_age = np.mean(score_TransformerVAE_height_to_age[-10:])\n",
        "\n",
        "# Determine the inferred directions and print values\n",
        "direction_CANM = \"Age -> Height\" if avg_score_CANM_age_to_height > avg_score_CANM_height_to_age else \"Height -> Age\"\n",
        "direction_TransformerVAE = \"Age -> Height\" if avg_score_TransformerVAE_age_to_height > avg_score_TransformerVAE_height_to_age else \"Height -> Age\"\n",
        "\n",
        "print(\"\\nCANM Inferred Direction:\", direction_CANM)\n",
        "print(\"  Avg Score Age -> Height:\", avg_score_CANM_age_to_height)\n",
        "print(\"  Avg Score Height -> Age:\", avg_score_CANM_height_to_age)\n",
        "\n",
        "print(\"\\nTransformerVAE Inferred Direction:\", direction_TransformerVAE)\n",
        "print(\"  Avg Score Age -> Height:\", avg_score_TransformerVAE_age_to_height)\n",
        "print(\"  Avg Score Height -> Age:\", avg_score_TransformerVAE_height_to_age)\n",
        "\n",
        "# Plotting the convergence of loss values over epochs for each model and direction\n",
        "plt.figure(figsize=(14, 8))\n",
        "plt.plot(score_TransformerVAE_age_to_height, label='TV-CANM Age -> Height')\n",
        "plt.plot(score_TransformerVAE_height_to_age, label='TV-CANM Height -> Age', linestyle='--')\n",
        "plt.xlabel('Epoch')\n",
        "plt.ylabel('Negative Average Loss')\n",
        "plt.title('Causal Direction Convergence for TV-CANM (Age to Height 450 - Epochs)')\n",
        "plt.legend()\n",
        "plt.show()\n",
        "\n",
        "# Bar plot comparison of final average scores for each direction\n",
        "labels = ['CANM Age -> Height', 'CANM Height -> Age', 'TV-CANM Age -> Height', 'TV-CANM Height -> Age']\n",
        "scores = [avg_score_CANM_age_to_height, avg_score_CANM_height_to_age, avg_score_TransformerVAE_age_to_height, avg_score_TransformerVAE_height_to_age]\n",
        "colors = ['blue', 'lightblue', 'green', 'lightgreen']\n",
        "\n",
        "plt.figure(figsize=(10, 6))\n",
        "plt.bar(labels, scores, color=colors)\n",
        "plt.xlabel('Direction')\n",
        "plt.ylabel('Average Score (Negative Loss)')\n",
        "plt.title('Comparison of Causal Direction Scores for CANM and TV-CANM (Age to Height 450 - Epochs)')\n",
        "plt.show()"
      ]
    }
  ]
}