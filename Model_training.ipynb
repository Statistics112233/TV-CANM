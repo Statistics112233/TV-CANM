{
  "nbformat": 4,
  "nbformat_minor": 0,
  "metadata": {
    "colab": {
      "provenance": []
    },
    "kernelspec": {
      "name": "python3",
      "display_name": "Python 3"
    },
    "language_info": {
      "name": "python"
    }
  },
  "cells": [
    {
      "cell_type": "code",
      "execution_count": null,
      "metadata": {
        "id": "GqGqMYjVSV2E"
      },
      "outputs": [],
      "source": [
        "# Training function for CANM and TransformerVAE\n",
        "def fit_model(model_class, traindata, N=1, beta=0.1, batch_size=128, epochs=450, learning_rate=1e-5, prior_sdy=0.95, update_sdy=True, verbose=False):\n",
        "    model = model_class(N).to('cuda' if torch.cuda.is_available() else 'cpu')\n",
        "    traindata = torch.from_numpy(traindata).float()\n",
        "    train_loader = torch.utils.data.DataLoader(traindata, batch_size=batch_size, shuffle=True)\n",
        "\n",
        "    # Set up `sdy` to be on the correct device\n",
        "    sdy = torch.tensor([prior_sdy], requires_grad=True, device=next(model.parameters()).device)\n",
        "    optimizer = optim.AdamW([{'params': model.parameters()}, {'params': [sdy]}] if update_sdy else model.parameters(), lr=learning_rate)\n",
        "\n",
        "    score = []\n",
        "    for epoch in range(1, epochs + 1):\n",
        "        train_loss = 0\n",
        "        for data in train_loader:\n",
        "            optimizer.zero_grad()\n",
        "            y, yhat, mu, logvar = data[:, 1].view(-1, 1), *model(data)\n",
        "            loss = loss_function(y, yhat, mu, logvar, sdy, beta)\n",
        "            loss.backward()\n",
        "            optimizer.step()\n",
        "            train_loss += loss.item()\n",
        "        avg_loss = -train_loss / len(train_loader)\n",
        "        score.append(avg_loss)\n",
        "        if verbose:\n",
        "            print(f'Epoch {epoch} - Avg Loss: {avg_loss:.4f}')\n",
        "    return model, score"
      ]
    }
  ]
}